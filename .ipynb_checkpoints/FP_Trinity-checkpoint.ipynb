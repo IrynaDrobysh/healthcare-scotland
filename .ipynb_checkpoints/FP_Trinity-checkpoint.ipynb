{
 "cells": [
  {
   "cell_type": "code",
   "execution_count": 101,
   "id": "58b0c9c6-16fc-4242-82b4-2b4a10f71563",
   "metadata": {},
   "outputs": [],
   "source": [
    "import pandas as pd\n",
    "\n",
    "# Load datasets\n",
    "hospitals_df = pd.read_csv(\"Hospitals.csv\")\n",
    "death_df = pd.read_csv(\"Number_of_Death.csv\")\n",
    "specialty_df = pd.read_csv(\"Specialty.csv\")\n",
    "deprivation_df = pd.read_csv(\"Deprivation.csv\")\n",
    "simd_df = pd.read_csv(\"SIMD.csv\")\n"
   ]
  },
  {
   "cell_type": "code",
   "execution_count": 64,
   "id": "94afaf38-a942-4076-845d-bd3ea25e183d",
   "metadata": {},
   "outputs": [],
   "source": [
    "# Rename columns to match\n",
    "death_df = death_df.rename(columns={\n",
    "    \"HBT\": \"HB\"\n",
    "   })\n"
   ]
  },
  {
   "cell_type": "code",
   "execution_count": 65,
   "id": "e87fb73e-7648-433d-b303-2a5b81c6d333",
   "metadata": {},
   "outputs": [],
   "source": [
    "# Select only necessary columns\n",
    "death_df = death_df[['Year', 'HB', 'NumberOfDeaths', 'NumberOfPatients']]\n",
    "deprivation_df = deprivation_df[['Year', 'HB', 'Location', 'SIMD']]\n"
   ]
  },
  {
   "cell_type": "code",
   "execution_count": 66,
   "id": "3f08ab17-e4fb-4072-ade6-829bdeab65a2",
   "metadata": {},
   "outputs": [],
   "source": [
    "# Merge datasets only on 'Year' and 'HB' (since death_df has no Location)\n",
    "merged_df = pd.merge(death_df, deprivation_df, on=[\"Year\", \"HB\"], how=\"left\")"
   ]
  },
  {
   "cell_type": "code",
   "execution_count": 67,
   "id": "dac56414-baa4-4e79-a344-4ac38e962243",
   "metadata": {},
   "outputs": [],
   "source": [
    "# Calculate death percentage\n",
    "merged_df['death_percentage'] = (merged_df['NumberOfDeaths'] / merged_df['NumberOfPatients'] * 100).round(2)"
   ]
  },
  {
   "cell_type": "code",
   "execution_count": 68,
   "id": "12056a3d-4ac5-4387-9602-8d93a7fe9034",
   "metadata": {},
   "outputs": [
    {
     "name": "stdout",
     "output_type": "stream",
     "text": [
      "   Year         HB  NumberOfDeaths  NumberOfPatients Location  SIMD  \\\n",
      "0  2016  S92000003            6159            229272      NaN   NaN   \n",
      "1  2016  S08000015             462             16554      NaN   NaN   \n",
      "2  2016  S08000016             140              4150      NaN   NaN   \n",
      "3  2016  S08000017             179              7314      NaN   NaN   \n",
      "4  2016  S08000019             304              8567      NaN   NaN   \n",
      "\n",
      "   death_percentage  \n",
      "0              2.69  \n",
      "1              2.79  \n",
      "2              3.37  \n",
      "3              2.45  \n",
      "4              3.55  \n"
     ]
    }
   ],
   "source": [
    "print(merged_df.head())"
   ]
  },
  {
   "cell_type": "code",
   "execution_count": 71,
   "id": "13791d45-7353-4f22-87af-226d5e71f73f",
   "metadata": {},
   "outputs": [
    {
     "name": "stdout",
     "output_type": "stream",
     "text": [
      "    Year         HB Location  SIMD\n",
      "0   2019  S08000015    A101H   3.0\n",
      "1   2019  S08000015    A101H   4.0\n",
      "2   2019  S08000015    A101H   3.0\n",
      "3   2019  S08000015    A101H   4.0\n",
      "48  2019  S08000015    A101H   3.0\n",
      "49  2019  S08000015    A101H   4.0\n",
      "50  2019  S08000015    A101H   3.0\n",
      "51  2019  S08000015    A101H   4.0\n",
      "92  2019  S08000015    A101H   3.0\n",
      "93  2019  S08000015    A101H   4.0\n",
      "94  2019  S08000015    A101H   3.0\n",
      "95  2019  S08000015    A101H   4.0\n",
      "     Year         HB  NumberOfDeaths  NumberOfPatients\n",
      "161  2019  S08000015             544             17568\n",
      "177  2019  S08000015             503             16997\n",
      "193  2019  S08000015             465             16650\n",
      "209  2019  S08000015             534             16945\n"
     ]
    }
   ],
   "source": [
    "# 1. Create mapping\n",
    "location_hb_mapping = deprivation_df[['Location', 'HB']].drop_duplicates()\n",
    "\n",
    "# 2. Get SIMD and HB for a specific location (A101H for example)\n",
    "location_info = deprivation_df.query(\"Location == 'A101H' and Year == 2019\")\n",
    "print(location_info)\n",
    "\n",
    "# 3. Find HB for A101H\n",
    "hb_for_location = location_hb_mapping.query(\"Location == 'A101H'\")['HB'].values[0]\n",
    "\n",
    "# 4. Find death info for that HB in 2019\n",
    "death_info = death_df.query(f\"Year == 2019 and HB == '{hb_for_location}'\")\n",
    "print(death_info)\n"
   ]
  },
  {
   "cell_type": "code",
   "execution_count": 73,
   "id": "8328db58-1543-41cd-a9f4-770653ea4787",
   "metadata": {},
   "outputs": [
    {
     "name": "stdout",
     "output_type": "stream",
     "text": [
      "S08000015\n"
     ]
    }
   ],
   "source": [
    "# Mapping as dictionary\n",
    "location_to_hb = dict(zip(location_hb_mapping['Location'], location_hb_mapping['HB']))\n",
    "\n",
    "# Now you can just do:\n",
    "hb_code = location_to_hb['A101H']\n",
    "print(hb_code)"
   ]
  },
  {
   "cell_type": "code",
   "execution_count": 74,
   "id": "34002591-5f8e-48ef-9224-c2e27ac46e15",
   "metadata": {},
   "outputs": [],
   "source": [
    "#Given Location and Year → return Death % and SIMD\n",
    "# Step 1: Create Location -> HB mapping\n",
    "location_hb_mapping = deprivation_df[['Location', 'HB']].drop_duplicates()\n",
    "\n",
    "# Step 2: Create a dictionary for fast lookup\n",
    "location_to_hb = dict(zip(location_hb_mapping['Location'], location_hb_mapping['HB']))\n",
    "\n",
    "# Step 3: Define the function\n",
    "def get_death_and_simd_info(location, year):\n",
    "    # Find the HB for the given location\n",
    "    hb_code = location_to_hb.get(location)\n",
    "    if hb_code is None:\n",
    "        return f\"Location {location} not found in mapping.\"\n",
    "\n",
    "    # Find the SIMD for that location and year\n",
    "    simd_row = deprivation_df.query(f\"Location == '{location}' and Year == {year}\")\n",
    "    if simd_row.empty:\n",
    "        return f\"No SIMD data found for Location {location} and Year {year}.\"\n",
    "    simd_value = simd_row['SIMD'].values[0]\n",
    "    \n",
    "    # Find death info for that HB and year\n",
    "    death_row = death_df.query(f\"HB == '{hb_code}' and Year == {year}\")\n",
    "    if death_row.empty:\n",
    "        return f\"No Death data found for HB {hb_code} and Year {year}.\"\n",
    "    \n",
    "    number_of_deaths = death_row['NumberOfDeaths'].values[0]\n",
    "    number_of_patients = death_row['NumberOfPatients'].values[0]\n",
    "    \n",
    "    # Calculate death percentage\n",
    "    death_percentage = round((number_of_deaths / number_of_patients) * 100, 2)\n",
    "\n",
    "    # Final Output\n",
    "    result = {\n",
    "        \"Location\": location,\n",
    "        \"Year\": year,\n",
    "        \"HB\": hb_code,\n",
    "        \"SIMD\": simd_value,\n",
    "        \"Number_of_Deaths\": number_of_deaths,\n",
    "        \"Number_of_Patients\": number_of_patients,\n",
    "        \"Death_Percentage\": death_percentage\n",
    "    }\n",
    "    \n",
    "    return result\n"
   ]
  },
  {
   "cell_type": "code",
   "execution_count": 75,
   "id": "ffc72be2-f60f-43d3-ba9e-b57804a85ca0",
   "metadata": {},
   "outputs": [
    {
     "name": "stdout",
     "output_type": "stream",
     "text": [
      "{'Location': 'A101H', 'Year': 2019, 'HB': 'S08000015', 'SIMD': np.float64(3.0), 'Number_of_Deaths': np.int64(544), 'Number_of_Patients': np.int64(17568), 'Death_Percentage': np.float64(3.1)}\n"
     ]
    }
   ],
   "source": [
    "info = get_death_and_simd_info('A101H', 2019)\n",
    "print(info)"
   ]
  },
  {
   "cell_type": "code",
   "execution_count": 76,
   "id": "3ff49bb2-7a86-441a-aa86-55c1dc731586",
   "metadata": {},
   "outputs": [],
   "source": [
    "# Step 1: (If you haven't already)\n",
    "location_hb_mapping = deprivation_df[['Location', 'HB']].drop_duplicates()\n",
    "location_to_hb = dict(zip(location_hb_mapping['Location'], location_hb_mapping['HB']))\n",
    "\n",
    "# Step 2: Define the batch function\n",
    "def batch_get_death_and_simd_info(locations, year):\n",
    "    results = []\n",
    "    \n",
    "    for location in locations:\n",
    "        # Find HB\n",
    "        hb_code = location_to_hb.get(location)\n",
    "        if hb_code is None:\n",
    "            results.append({\n",
    "                \"Location\": location,\n",
    "                \"Year\": year,\n",
    "                \"HB\": None,\n",
    "                \"SIMD\": None,\n",
    "                \"Number_of_Deaths\": None,\n",
    "                \"Number_of_Patients\": None,\n",
    "                \"Death_Percentage\": None,\n",
    "                \"Error\": f\"Location {location} not found.\"\n",
    "            })\n",
    "            continue\n",
    "\n",
    "        # Get SIMD\n",
    "        simd_row = deprivation_df.query(f\"Location == '{location}' and Year == {year}\")\n",
    "        if simd_row.empty:\n",
    "            simd_value = None\n",
    "        else:\n",
    "            simd_value = simd_row['SIMD'].values[0]\n",
    "\n",
    "        # Get Death info\n",
    "        death_row = death_df.query(f\"HB == '{hb_code}' and Year == {year}\")\n",
    "        if death_row.empty:\n",
    "            number_of_deaths = None\n",
    "            number_of_patients = None\n",
    "            death_percentage = None\n",
    "        else:\n",
    "            number_of_deaths = death_row['NumberOfDeaths'].values[0]\n",
    "            number_of_patients = death_row['NumberOfPatients'].values[0]\n",
    "            death_percentage = round((number_of_deaths / number_of_patients) * 100, 2)\n",
    "\n",
    "        results.append({\n",
    "            \"Location\": location,\n",
    "            \"Year\": year,\n",
    "            \"HB\": hb_code,\n",
    "            \"SIMD\": simd_value,\n",
    "            \"Number_of_Deaths\": number_of_deaths,\n",
    "            \"Number_of_Patients\": number_of_patients,\n",
    "            \"Death_Percentage\": death_percentage,\n",
    "            \"Error\": None\n",
    "        })\n",
    "    \n",
    "    # Return as a nice DataFrame\n",
    "    return pd.DataFrame(results)\n"
   ]
  },
  {
   "cell_type": "code",
   "execution_count": 79,
   "id": "d555d20e-bde3-4be8-bc8a-4a013944b1c3",
   "metadata": {},
   "outputs": [
    {
     "name": "stdout",
     "output_type": "stream",
     "text": [
      "  Location  Year         HB  SIMD  Number_of_Deaths  Number_of_Patients  \\\n",
      "0    A101H  2020  S08000015   1.0               549               14793   \n",
      "1    S116H  2020  S08000024   1.0               993               29478   \n",
      "2    G405H  2020  S08000031   1.0              1714               61552   \n",
      "3    C206H  2020  S08000031   1.0              1714               61552   \n",
      "\n",
      "   Death_Percentage Error  \n",
      "0              3.71  None  \n",
      "1              3.37  None  \n",
      "2              2.78  None  \n",
      "3              2.78  None  \n"
     ]
    }
   ],
   "source": [
    "locations_list = ['A101H', 'S116H', 'G405H', 'C206H']  # list of locations\n",
    "year = 2020\n",
    "\n",
    "batch_results = batch_get_death_and_simd_info(locations_list, year)\n",
    "print(batch_results)\n"
   ]
  },
  {
   "cell_type": "code",
   "execution_count": null,
   "id": "5494b15e-18fb-45d2-98a4-9424168e38b3",
   "metadata": {},
   "outputs": [],
   "source": [
    "#If you want to save results immediately to CSV\n",
    "#batch_results.to_csv(\"death_and_simd_results.csv\", index=False)\n"
   ]
  },
  {
   "cell_type": "code",
   "execution_count": 80,
   "id": "3b13703d-6105-4919-bd66-2313d626dde5",
   "metadata": {},
   "outputs": [
    {
     "name": "stdout",
     "output_type": "stream",
     "text": [
      "   Year  NumberOfDeaths  NumberOfPatients  Death_Percentage\n",
      "0  2019        152781.0         5662146.0              2.70\n",
      "1  2020        157991.0         4058773.0              3.89\n",
      "2  2021        163813.0         4523441.0              3.62\n",
      "3  2022        159789.0         4748333.0              3.37\n",
      "4  2023        159245.0         5158305.0              3.09\n",
      "5  2024        115110.0         3949091.0              2.91\n"
     ]
    }
   ],
   "source": [
    "# for SIMD = 5 (least deprived areas) calculate the death percentage for each year\n",
    "# 1. Merge Deprivation and Deaths on HB and Year\n",
    "deprivation_trim = deprivation_df[['Year', 'HB', 'Location', 'SIMD']].drop_duplicates()\n",
    "\n",
    "death_trim = death_df[['Year', 'HB', 'NumberOfDeaths', 'NumberOfPatients']]\n",
    "\n",
    "# Merge on Year and HB\n",
    "merged = pd.merge(deprivation_trim, death_trim, on=['Year', 'HB'], how='left')\n",
    "\n",
    "# 2. Filter for SIMD == 5 (least deprived areas)\n",
    "simd_5_df = merged[merged['SIMD'] == 5]\n",
    "\n",
    "# 3. Group by Year and aggregate\n",
    "grouped = simd_5_df.groupby('Year').agg({\n",
    "    'NumberOfDeaths': 'sum',\n",
    "    'NumberOfPatients': 'sum'\n",
    "}).reset_index()\n",
    "\n",
    "# 4. Calculate Death Percentage\n",
    "grouped['Death_Percentage'] = (grouped['NumberOfDeaths'] / grouped['NumberOfPatients'] * 100).round(2)\n",
    "\n",
    "# 5. See the results\n",
    "print(grouped)\n"
   ]
  },
  {
   "cell_type": "code",
   "execution_count": 81,
   "id": "d518af8b-bf2f-4303-a9b4-94163f87f588",
   "metadata": {},
   "outputs": [
    {
     "data": {
      "image/png": "[encoded data removed]",
      "text/plain": [
       "<Figure size 640x480 with 1 Axes>"
      ]
     },
     "metadata": {},
     "output_type": "display_data"
    }
   ],
   "source": [
    "import matplotlib.pyplot as plt\n",
    "\n",
    "plt.plot(grouped['Year'], grouped['Death_Percentage'], marker='o')\n",
    "plt.title('Death Percentage in SIMD 5 Areas by Year')\n",
    "plt.xlabel('Year')\n",
    "plt.ylabel('Death Percentage (%)')\n",
    "plt.grid(True)\n",
    "plt.show()\n"
   ]
  },
  {
   "cell_type": "markdown",
   "id": "4dacc705-d6d5-4f0f-b085-a955489244d0",
   "metadata": {},
   "source": [
    "compare SIMD 1 (most deprived) vs SIMD 5 (least deprived) death rates side by side"
   ]
  },
  {
   "cell_type": "code",
   "execution_count": 82,
   "id": "5edf1c24-b3f2-4c0d-acab-46990edbfc28",
   "metadata": {},
   "outputs": [
    {
     "name": "stdout",
     "output_type": "stream",
     "text": [
      "   Year  Death_Percentage_SIMD1  Death_Percentage_SIMD5\n",
      "0  2019                    2.70                    2.70\n",
      "1  2020                    3.90                    3.89\n",
      "2  2021                    3.63                    3.62\n",
      "3  2022                    3.37                    3.37\n",
      "4  2023                    3.09                    3.09\n",
      "5  2024                    2.92                    2.91\n"
     ]
    }
   ],
   "source": [
    "# 1. Prepare merged data again \n",
    "merged = pd.merge(deprivation_trim, death_trim, on=['Year', 'HB'], how='left')\n",
    "\n",
    "# 2. Create two separate DataFrames for SIMD 1 and SIMD 5\n",
    "simd_1_df = merged[merged['SIMD'] == 1]\n",
    "simd_5_df = merged[merged['SIMD'] == 5]\n",
    "\n",
    "# 3. Group by Year and aggregate (separately)\n",
    "grouped_simd1 = simd_1_df.groupby('Year').agg({\n",
    "    'NumberOfDeaths': 'sum',\n",
    "    'NumberOfPatients': 'sum'\n",
    "}).reset_index()\n",
    "\n",
    "grouped_simd5 = simd_5_df.groupby('Year').agg({\n",
    "    'NumberOfDeaths': 'sum',\n",
    "    'NumberOfPatients': 'sum'\n",
    "}).reset_index()\n",
    "\n",
    "# 4. Calculate Death Percentages\n",
    "grouped_simd1['Death_Percentage_SIMD1'] = (grouped_simd1['NumberOfDeaths'] / grouped_simd1['NumberOfPatients'] * 100).round(2)\n",
    "grouped_simd5['Death_Percentage_SIMD5'] = (grouped_simd5['NumberOfDeaths'] / grouped_simd5['NumberOfPatients'] * 100).round(2)\n",
    "\n",
    "# 5. Merge the two results together on Year\n",
    "comparison = pd.merge(grouped_simd1[['Year', 'Death_Percentage_SIMD1']], \n",
    "                      grouped_simd5[['Year', 'Death_Percentage_SIMD5']], \n",
    "                      on='Year', \n",
    "                      how='inner')\n",
    "\n",
    "# 6. See the comparison!\n",
    "print(comparison)\n"
   ]
  },
  {
   "cell_type": "code",
   "execution_count": 84,
   "id": "97b8645d-fc85-43c2-8247-a4ffe1353eb7",
   "metadata": {},
   "outputs": [
    {
     "data": {
      "image/png": "[encoded data removed]",
      "text/plain": [
       "<Figure size 1000x600 with 1 Axes>"
      ]
     },
     "metadata": {},
     "output_type": "display_data"
    }
   ],
   "source": [
    "plt.figure(figsize=(10,6))\n",
    "plt.plot(comparison['Year'], comparison['Death_Percentage_SIMD1'], marker='o', label='SIMD 1 (Most Deprived)', color='blue')\n",
    "plt.plot(comparison['Year'], comparison['Death_Percentage_SIMD5'], marker='o', label='SIMD 5 (Least Deprived)', color='yellow')\n",
    "\n",
    "plt.title('Death Percentage: SIMD 1 vs SIMD 5')\n",
    "plt.xlabel('Year')\n",
    "plt.ylabel('Death Percentage (%)')\n",
    "plt.legend()\n",
    "plt.grid(True)\n",
    "plt.show()\n"
   ]
  },
  {
   "cell_type": "markdown",
   "id": "8042c4db-c804-410b-8cab-a4da1b43055d",
   "metadata": {},
   "source": [
    "Correlation between SIMD and death percentage"
   ]
  },
  {
   "cell_type": "code",
   "execution_count": 86,
   "id": "f0083057-9cda-4567-a7c0-b334e2282664",
   "metadata": {},
   "outputs": [
    {
     "name": "stdout",
     "output_type": "stream",
     "text": [
      "Correlation between SIMD and death percentage: -0.002\n"
     ]
    }
   ],
   "source": [
    "# 1. Merge the datasets again if needed\n",
    "merged = pd.merge(deprivation_trim, death_trim, on=['Year', 'HB'], how='left')\n",
    "\n",
    "# 2. Drop rows with missing data in key columns\n",
    "merged_clean = merged.dropna(subset=['SIMD', 'NumberOfDeaths', 'NumberOfPatients']).copy()\n",
    "\n",
    "\n",
    "# 3. Calculate death percentage per row\n",
    "merged_clean['death_percentage'] = (\n",
    "    merged_clean['NumberOfDeaths'] / merged_clean['NumberOfPatients'] * 100\n",
    ").round(2)\n",
    "\n",
    "# 4. Calculate correlation between SIMD and death_percentage\n",
    "correlation = merged_clean[['SIMD', 'death_percentage']].corr().iloc[0, 1]\n",
    "\n",
    "print(f\"Correlation between SIMD and death percentage: {correlation:.3f}\")\n"
   ]
  },
  {
   "cell_type": "markdown",
   "id": "fb5ff1a7-918b-4c77-8b2c-be87cade53d8",
   "metadata": {},
   "source": [
    "Area with the highest death percentage in 2024"
   ]
  },
  {
   "cell_type": "code",
   "execution_count": 97,
   "id": "3286390e-4237-4372-adc6-d854bf3a8105",
   "metadata": {},
   "outputs": [],
   "source": [
    "# 1. Filter for year 2024\n",
    "data_2024 = merged[merged['Year'] == 2024].copy()\n"
   ]
  },
  {
   "cell_type": "code",
   "execution_count": 98,
   "id": "93150db2-67d7-4bae-844c-a45b87337143",
   "metadata": {},
   "outputs": [
    {
     "data": {
      "text/html": [
       "<div>\n",
       "<style scoped>\n",
       "    .dataframe tbody tr th:only-of-type {\n",
       "        vertical-align: middle;\n",
       "    }\n",
       "\n",
       "    .dataframe tbody tr th {\n",
       "        vertical-align: top;\n",
       "    }\n",
       "\n",
       "    .dataframe thead th {\n",
       "        text-align: right;\n",
       "    }\n",
       "</style>\n",
       "<table border=\"1\" class=\"dataframe\">\n",
       "  <thead>\n",
       "    <tr style=\"text-align: right;\">\n",
       "      <th></th>\n",
       "      <th>Location</th>\n",
       "      <th>HB</th>\n",
       "      <th>death_percentage</th>\n",
       "      <th>NumberOfDeaths</th>\n",
       "      <th>NumberOfPatients</th>\n",
       "      <th>SIMD</th>\n",
       "    </tr>\n",
       "  </thead>\n",
       "  <tbody>\n",
       "    <tr>\n",
       "      <th>3</th>\n",
       "      <td>B120H</td>\n",
       "      <td>S08000016</td>\n",
       "      <td>4.858727</td>\n",
       "      <td>2742.0</td>\n",
       "      <td>66288.0</td>\n",
       "      <td>1.0</td>\n",
       "    </tr>\n",
       "    <tr>\n",
       "      <th>28</th>\n",
       "      <td>S08000016</td>\n",
       "      <td>S08000016</td>\n",
       "      <td>4.858727</td>\n",
       "      <td>2742.0</td>\n",
       "      <td>66288.0</td>\n",
       "      <td>1.0</td>\n",
       "    </tr>\n",
       "    <tr>\n",
       "      <th>38</th>\n",
       "      <td>S08000030</td>\n",
       "      <td>S08000030</td>\n",
       "      <td>3.899557</td>\n",
       "      <td>10866.0</td>\n",
       "      <td>305586.0</td>\n",
       "      <td>1.0</td>\n",
       "    </tr>\n",
       "    <tr>\n",
       "      <th>48</th>\n",
       "      <td>T312H</td>\n",
       "      <td>S08000030</td>\n",
       "      <td>3.899557</td>\n",
       "      <td>10866.0</td>\n",
       "      <td>305586.0</td>\n",
       "      <td>1.0</td>\n",
       "    </tr>\n",
       "    <tr>\n",
       "      <th>47</th>\n",
       "      <td>T202H</td>\n",
       "      <td>S08000030</td>\n",
       "      <td>3.899557</td>\n",
       "      <td>10866.0</td>\n",
       "      <td>305586.0</td>\n",
       "      <td>1.0</td>\n",
       "    </tr>\n",
       "    <tr>\n",
       "      <th>46</th>\n",
       "      <td>T101H</td>\n",
       "      <td>S08000030</td>\n",
       "      <td>3.899557</td>\n",
       "      <td>10866.0</td>\n",
       "      <td>305586.0</td>\n",
       "      <td>1.0</td>\n",
       "    </tr>\n",
       "    <tr>\n",
       "      <th>30</th>\n",
       "      <td>S08000019</td>\n",
       "      <td>S08000019</td>\n",
       "      <td>3.785611</td>\n",
       "      <td>6240.0</td>\n",
       "      <td>186066.0</td>\n",
       "      <td>1.0</td>\n",
       "    </tr>\n",
       "    <tr>\n",
       "      <th>49</th>\n",
       "      <td>V217H</td>\n",
       "      <td>S08000019</td>\n",
       "      <td>3.785611</td>\n",
       "      <td>6240.0</td>\n",
       "      <td>186066.0</td>\n",
       "      <td>1.0</td>\n",
       "    </tr>\n",
       "    <tr>\n",
       "      <th>27</th>\n",
       "      <td>S08000015</td>\n",
       "      <td>S08000015</td>\n",
       "      <td>3.685058</td>\n",
       "      <td>9288.0</td>\n",
       "      <td>263394.0</td>\n",
       "      <td>1.0</td>\n",
       "    </tr>\n",
       "    <tr>\n",
       "      <th>0</th>\n",
       "      <td>A101H</td>\n",
       "      <td>S08000015</td>\n",
       "      <td>3.685058</td>\n",
       "      <td>4644.0</td>\n",
       "      <td>131697.0</td>\n",
       "      <td>3.0</td>\n",
       "    </tr>\n",
       "    <tr>\n",
       "      <th>1</th>\n",
       "      <td>A111H</td>\n",
       "      <td>S08000015</td>\n",
       "      <td>3.685058</td>\n",
       "      <td>9288.0</td>\n",
       "      <td>263394.0</td>\n",
       "      <td>1.0</td>\n",
       "    </tr>\n",
       "    <tr>\n",
       "      <th>2</th>\n",
       "      <td>A210H</td>\n",
       "      <td>S08000015</td>\n",
       "      <td>3.685058</td>\n",
       "      <td>9288.0</td>\n",
       "      <td>263394.0</td>\n",
       "      <td>1.0</td>\n",
       "    </tr>\n",
       "    <tr>\n",
       "      <th>10</th>\n",
       "      <td>F805H</td>\n",
       "      <td>S08000029</td>\n",
       "      <td>3.650122</td>\n",
       "      <td>8028.0</td>\n",
       "      <td>231390.0</td>\n",
       "      <td>1.0</td>\n",
       "    </tr>\n",
       "    <tr>\n",
       "      <th>37</th>\n",
       "      <td>S08000029</td>\n",
       "      <td>S08000029</td>\n",
       "      <td>3.650122</td>\n",
       "      <td>8028.0</td>\n",
       "      <td>231390.0</td>\n",
       "      <td>1.0</td>\n",
       "    </tr>\n",
       "    <tr>\n",
       "      <th>11</th>\n",
       "      <td>F812H</td>\n",
       "      <td>S08000029</td>\n",
       "      <td>3.650122</td>\n",
       "      <td>8028.0</td>\n",
       "      <td>231390.0</td>\n",
       "      <td>1.0</td>\n",
       "    </tr>\n",
       "    <tr>\n",
       "      <th>9</th>\n",
       "      <td>F704H</td>\n",
       "      <td>S08000029</td>\n",
       "      <td>3.650122</td>\n",
       "      <td>8028.0</td>\n",
       "      <td>231390.0</td>\n",
       "      <td>1.0</td>\n",
       "    </tr>\n",
       "    <tr>\n",
       "      <th>35</th>\n",
       "      <td>S08000026</td>\n",
       "      <td>S08000026</td>\n",
       "      <td>3.506651</td>\n",
       "      <td>324.0</td>\n",
       "      <td>14622.0</td>\n",
       "      <td>2.0</td>\n",
       "    </tr>\n",
       "    <tr>\n",
       "      <th>53</th>\n",
       "      <td>Z102H</td>\n",
       "      <td>S08000026</td>\n",
       "      <td>3.506651</td>\n",
       "      <td>324.0</td>\n",
       "      <td>14622.0</td>\n",
       "      <td>2.0</td>\n",
       "    </tr>\n",
       "    <tr>\n",
       "      <th>40</th>\n",
       "      <td>S08000032</td>\n",
       "      <td>S08000032</td>\n",
       "      <td>3.495490</td>\n",
       "      <td>14076.0</td>\n",
       "      <td>435648.0</td>\n",
       "      <td>1.0</td>\n",
       "    </tr>\n",
       "    <tr>\n",
       "      <th>21</th>\n",
       "      <td>L106H</td>\n",
       "      <td>S08000032</td>\n",
       "      <td>3.495490</td>\n",
       "      <td>14076.0</td>\n",
       "      <td>435648.0</td>\n",
       "      <td>1.0</td>\n",
       "    </tr>\n",
       "  </tbody>\n",
       "</table>\n",
       "</div>"
      ],
      "text/plain": [
       "     Location         HB  death_percentage  NumberOfDeaths  NumberOfPatients  \\\n",
       "3       B120H  S08000016          4.858727          2742.0           66288.0   \n",
       "28  S08000016  S08000016          4.858727          2742.0           66288.0   \n",
       "38  S08000030  S08000030          3.899557         10866.0          305586.0   \n",
       "48      T312H  S08000030          3.899557         10866.0          305586.0   \n",
       "47      T202H  S08000030          3.899557         10866.0          305586.0   \n",
       "46      T101H  S08000030          3.899557         10866.0          305586.0   \n",
       "30  S08000019  S08000019          3.785611          6240.0          186066.0   \n",
       "49      V217H  S08000019          3.785611          6240.0          186066.0   \n",
       "27  S08000015  S08000015          3.685058          9288.0          263394.0   \n",
       "0       A101H  S08000015          3.685058          4644.0          131697.0   \n",
       "1       A111H  S08000015          3.685058          9288.0          263394.0   \n",
       "2       A210H  S08000015          3.685058          9288.0          263394.0   \n",
       "10      F805H  S08000029          3.650122          8028.0          231390.0   \n",
       "37  S08000029  S08000029          3.650122          8028.0          231390.0   \n",
       "11      F812H  S08000029          3.650122          8028.0          231390.0   \n",
       "9       F704H  S08000029          3.650122          8028.0          231390.0   \n",
       "35  S08000026  S08000026          3.506651           324.0           14622.0   \n",
       "53      Z102H  S08000026          3.506651           324.0           14622.0   \n",
       "40  S08000032  S08000032          3.495490         14076.0          435648.0   \n",
       "21      L106H  S08000032          3.495490         14076.0          435648.0   \n",
       "\n",
       "    SIMD  \n",
       "3    1.0  \n",
       "28   1.0  \n",
       "38   1.0  \n",
       "48   1.0  \n",
       "47   1.0  \n",
       "46   1.0  \n",
       "30   1.0  \n",
       "49   1.0  \n",
       "27   1.0  \n",
       "0    3.0  \n",
       "1    1.0  \n",
       "2    1.0  \n",
       "10   1.0  \n",
       "37   1.0  \n",
       "11   1.0  \n",
       "9    1.0  \n",
       "35   2.0  \n",
       "53   2.0  \n",
       "40   1.0  \n",
       "21   1.0  "
      ]
     },
     "execution_count": 98,
     "metadata": {},
     "output_type": "execute_result"
    }
   ],
   "source": [
    "# Group by Location and HB, then aggregate max death % per area\n",
    "top_areas_clean = (\n",
    "    data_2024\n",
    "    .dropna(subset=['NumberOfDeaths', 'NumberOfPatients', 'Location'])\n",
    "    .assign(death_percentage=lambda df: (df['NumberOfDeaths'] / df['NumberOfPatients']) * 100)\n",
    "    .groupby(['Location', 'HB'])\n",
    "    .agg({\n",
    "        'death_percentage': 'max',\n",
    "        'NumberOfDeaths': 'sum',\n",
    "        'NumberOfPatients': 'sum',\n",
    "        'SIMD': 'first'\n",
    "        #'SIMD': lambda x: x.mode().iloc[0] if not x.mode().empty else None #to get most frequent\n",
    "    })\n",
    "    .reset_index()\n",
    "    .sort_values(by='death_percentage', ascending=False)\n",
    "    .head(20)\n",
    ")\n",
    "\n",
    "top_areas_clean\n"
   ]
  },
  {
   "cell_type": "markdown",
   "id": "426420de-33aa-4c20-b187-2ecb3e5bbdca",
   "metadata": {},
   "source": [
    "1. Correlation value near 0 (like -0.002) means no strong linear relationship—SIMD rank (1–5) doesn’t consistently rise or fall with death % across every area.\n",
    "\n",
    "2. Top 10/20 shows local extremes\n",
    "When we look at only the top 10 or 20 areas with the highest death %, we’re zooming into the extreme cases.\n",
    "\n",
    "These areas might cluster around SIMD = 1, but this does not represent the whole dataset.\n",
    "\n",
    "SIMD 1 areas are overrepresented at the top of the list, but that’s not enough to make the overall correlation strong.\n",
    "\n"
   ]
  },
  {
   "cell_type": "code",
   "execution_count": 99,
   "id": "d07171cc-f04e-4428-901d-b7160be19d7d",
   "metadata": {},
   "outputs": [
    {
     "data": {
      "text/plain": [
       "SIMD\n",
       "1.0    3.448836\n",
       "2.0    3.440960\n",
       "3.0    3.449388\n",
       "4.0    3.449388\n",
       "5.0    3.438360\n",
       "Name: death_percentage, dtype: float64"
      ]
     },
     "execution_count": 99,
     "metadata": {},
     "output_type": "execute_result"
    }
   ],
   "source": [
    "#Check average death percentage per SIMD group\n",
    "merged_clean.groupby('SIMD')['death_percentage'].mean().sort_index()\n"
   ]
  },
  {
   "cell_type": "code",
   "execution_count": 106,
   "id": "2867b338-ec42-4777-a853-fb41628357c1",
   "metadata": {},
   "outputs": [
    {
     "name": "stdout",
     "output_type": "stream",
     "text": [
      "        Location Specialty        SpecialtyName\n",
      "11208  S08000016        A1     General Medicine\n",
      "11209  S08000016        A2           Cardiology\n",
      "11210  S08000016        A3    Clinical Genetics\n",
      "11211  S08000016        A6  Infectious Diseases\n",
      "11212  S08000016        A7          Dermatology\n",
      "...          ...       ...                  ...\n",
      "14103  S12000026        R5        Physiotherapy\n",
      "14146  S12000026        RJ           Orthoptics\n",
      "14189  S12000026        R3            Dietetics\n",
      "14279  S12000026        T2            Midwifery\n",
      "14338  S12000026        AJ     Integrative Care\n",
      "\n",
      "[100 rows x 3 columns]\n"
     ]
    }
   ],
   "source": [
    "specialty_by_hb = specialty_df[specialty_df['HB'] == 'S08000016']\n",
    "print(specialty_by_hb[['Location', 'Specialty', 'SpecialtyName']].drop_duplicates())\n"
   ]
  },
  {
   "cell_type": "code",
   "execution_count": 108,
   "id": "2e76dcf6-5b4d-4b57-b7b3-2d5e98ca7bb4",
   "metadata": {},
   "outputs": [
    {
     "data": {
      "text/html": [
       "<div>\n",
       "<style scoped>\n",
       "    .dataframe tbody tr th:only-of-type {\n",
       "        vertical-align: middle;\n",
       "    }\n",
       "\n",
       "    .dataframe tbody tr th {\n",
       "        vertical-align: top;\n",
       "    }\n",
       "\n",
       "    .dataframe thead th {\n",
       "        text-align: right;\n",
       "    }\n",
       "</style>\n",
       "<table border=\"1\" class=\"dataframe\">\n",
       "  <thead>\n",
       "    <tr style=\"text-align: right;\">\n",
       "      <th></th>\n",
       "      <th>Location</th>\n",
       "      <th>Specialty</th>\n",
       "      <th>SpecialtyName</th>\n",
       "    </tr>\n",
       "  </thead>\n",
       "  <tbody>\n",
       "    <tr>\n",
       "      <th>11208</th>\n",
       "      <td>S08000016</td>\n",
       "      <td>A1</td>\n",
       "      <td>General Medicine</td>\n",
       "    </tr>\n",
       "    <tr>\n",
       "      <th>11209</th>\n",
       "      <td>S08000016</td>\n",
       "      <td>A2</td>\n",
       "      <td>Cardiology</td>\n",
       "    </tr>\n",
       "    <tr>\n",
       "      <th>11210</th>\n",
       "      <td>S08000016</td>\n",
       "      <td>A3</td>\n",
       "      <td>Clinical Genetics</td>\n",
       "    </tr>\n",
       "    <tr>\n",
       "      <th>11211</th>\n",
       "      <td>S08000016</td>\n",
       "      <td>A6</td>\n",
       "      <td>Infectious Diseases</td>\n",
       "    </tr>\n",
       "    <tr>\n",
       "      <th>11212</th>\n",
       "      <td>S08000016</td>\n",
       "      <td>A7</td>\n",
       "      <td>Dermatology</td>\n",
       "    </tr>\n",
       "    <tr>\n",
       "      <th>...</th>\n",
       "      <td>...</td>\n",
       "      <td>...</td>\n",
       "      <td>...</td>\n",
       "    </tr>\n",
       "    <tr>\n",
       "      <th>14103</th>\n",
       "      <td>S12000026</td>\n",
       "      <td>R5</td>\n",
       "      <td>Physiotherapy</td>\n",
       "    </tr>\n",
       "    <tr>\n",
       "      <th>14146</th>\n",
       "      <td>S12000026</td>\n",
       "      <td>RJ</td>\n",
       "      <td>Orthoptics</td>\n",
       "    </tr>\n",
       "    <tr>\n",
       "      <th>14189</th>\n",
       "      <td>S12000026</td>\n",
       "      <td>R3</td>\n",
       "      <td>Dietetics</td>\n",
       "    </tr>\n",
       "    <tr>\n",
       "      <th>14279</th>\n",
       "      <td>S12000026</td>\n",
       "      <td>T2</td>\n",
       "      <td>Midwifery</td>\n",
       "    </tr>\n",
       "    <tr>\n",
       "      <th>14338</th>\n",
       "      <td>S12000026</td>\n",
       "      <td>AJ</td>\n",
       "      <td>Integrative Care</td>\n",
       "    </tr>\n",
       "  </tbody>\n",
       "</table>\n",
       "<p>100 rows × 3 columns</p>\n",
       "</div>"
      ],
      "text/plain": [
       "        Location Specialty        SpecialtyName\n",
       "11208  S08000016        A1     General Medicine\n",
       "11209  S08000016        A2           Cardiology\n",
       "11210  S08000016        A3    Clinical Genetics\n",
       "11211  S08000016        A6  Infectious Diseases\n",
       "11212  S08000016        A7          Dermatology\n",
       "...          ...       ...                  ...\n",
       "14103  S12000026        R5        Physiotherapy\n",
       "14146  S12000026        RJ           Orthoptics\n",
       "14189  S12000026        R3            Dietetics\n",
       "14279  S12000026        T2            Midwifery\n",
       "14338  S12000026        AJ     Integrative Care\n",
       "\n",
       "[100 rows x 3 columns]"
      ]
     },
     "execution_count": 108,
     "metadata": {},
     "output_type": "execute_result"
    }
   ],
   "source": [
    "specialty_df[specialty_df['HB'] == 'S08000016'][['Location', 'Specialty', 'SpecialtyName']].drop_duplicates()"
   ]
  },
  {
   "cell_type": "code",
   "execution_count": null,
   "id": "6a5f1582-1db3-4f6e-8701-6518d852e113",
   "metadata": {},
   "outputs": [],
   "source": []
  }
 ],
 "metadata": {
  "kernelspec": {
   "display_name": "Python 3 (ipykernel)",
   "language": "python",
   "name": "python3"
  },
  "language_info": {
   "codemirror_mode": {
    "name": "ipython",
    "version": 3
   },
   "file_extension": ".py",
   "mimetype": "text/x-python",
   "name": "python",
   "nbconvert_exporter": "python",
   "pygments_lexer": "ipython3",
   "version": "3.13.1"
  }
 },
 "nbformat": 4,
 "nbformat_minor": 5
}
